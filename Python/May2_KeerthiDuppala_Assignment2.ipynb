{
 "cells": [
  {
   "cell_type": "markdown",
   "id": "ec890f3a",
   "metadata": {},
   "source": [
    "## 1.\tCreate a python program to find duplicate files by content. User will input path and it will scan all directories, sub-directories to find all duplicates files.\n",
    "Delete the found duplicate file.\n",
    "[Hint: use hashlib]\n"
   ]
  },
  {
   "cell_type": "code",
   "execution_count": 9,
   "id": "de6bc6e6",
   "metadata": {},
   "outputs": [
    {
     "name": "stdout",
     "output_type": "stream",
     "text": [
      "Enter the file : D:/pyfiles/\n",
      "['py3.txt']\n"
     ]
    }
   ],
   "source": [
    "import sys\n",
    "import os\n",
    "import hashlib\n",
    "\n",
    "path1=input(\"Enter the file : \")\n",
    "files = os.listdir(path1)\n",
    "directory = []\n",
    "for (dir_path, dir_name, files_name) in os.walk(path1):\n",
    "    directory.extend(files_name)\n",
    "#print(directory) \n",
    "hash_file=[]\n",
    "hash_del=[]\n",
    "parent_path = \"D:/pyfiles/\"\n",
    "for files_name in directory:\n",
    "    path = os.path.join(parent_path,files_name)\n",
    "    fileobj1 = open(path, \"r\")\n",
    "    string1=fileobj1.read()\n",
    "    message = hashlib.sha256()\n",
    "    message.update(string1.encode())\n",
    "    file_hash = message.hexdigest()\n",
    "    if file_hash not in hash_file:\n",
    "        hash_file.append(file_hash)\n",
    "    else:\n",
    "        hash_del.append(files_name)\n",
    "print(hash_del)\n",
    "\n",
    "for i in range(len(hash_del)):\n",
    "    path = os.path.join(path1, hash_del[i])\n",
    "    os.unlink(path)\n",
    "#print(hash_of_file)"
   ]
  },
  {
   "cell_type": "markdown",
   "id": "cb65cf17",
   "metadata": {},
   "source": [
    "## 2.\tGenerate random Password with exact length = 6, with minimum 1 uppercase, 2 lowercase, 2 digits, and remaining special characters.\n",
    "Using these packages [random, strings]\n"
   ]
  },
  {
   "cell_type": "code",
   "execution_count": null,
   "id": "2acda6db",
   "metadata": {},
   "outputs": [],
   "source": [
    "import random\n",
    "import string\n",
    "\n",
    "lower=string.ascii_lowercase\n",
    "upper=string.ascii_uppercase\n",
    "str1=\"\"\n",
    "str2=random.choice(upper)\n",
    "str3=\"\"\n",
    "str1=str1+str2\n",
    "for i in range(0,2):\n",
    "    str1=str1+random.choice(lower)\n",
    "for i in range(0,3):\n",
    "    str1 = str1+str(random.randint(0,9))\n",
    "list1=[]\n",
    "list1.extend(str1)\n",
    "random.shuffle(list1)\n",
    "print(\"Password is : \",str3.join(list1))"
   ]
  },
  {
   "cell_type": "markdown",
   "id": "d59cee3b",
   "metadata": {},
   "source": [
    "## 3.\tCreate 2D array and update the same 2D array provided that every prime number position should be replaced by cube of the positioned number."
   ]
  },
  {
   "cell_type": "code",
   "execution_count": null,
   "id": "be810515",
   "metadata": {},
   "outputs": [],
   "source": [
    "arr_1=np.array([[1,2,3,4],[5,6,7,8],\n",
    "              [9,10,11,12],[13,14,15,16]])\n",
    "for i in range(4):\n",
    "    for j in range(4):\n",
    "        f=False     #false indicates it is a prime\n",
    "        for k in range(2,arr_1[i][j]):\n",
    "            if (arr_1[i][j]%k)==0:\n",
    "                f=True\n",
    "                break\n",
    "        if(f==False):\n",
    "                arr_1[i][j]=arr_1[i][j]*arr_1[i][j]*arr_1[i][j]\n",
    "arr_1"
   ]
  },
  {
   "cell_type": "markdown",
   "id": "30cb33ce",
   "metadata": {},
   "source": [
    "## 4.\tPython program to get the sum of every cubed value and its previous integer"
   ]
  },
  {
   "cell_type": "code",
   "execution_count": null,
   "id": "b53678f0",
   "metadata": {},
   "outputs": [],
   "source": [
    "arr=np.array([[1,2,3,4],[5,6,7,8],\n",
    "              [9,10,11,12],[13,14,15,16]])\n",
    "list1=arr.flatten()\n",
    "for i in range(1,len(list1)):\n",
    "    f=False     #false indicates it is a prime\n",
    "    for k in range(2,list1[i]):\n",
    "        if (list1[i]%k)==0:\n",
    "            f=True\n",
    "            break\n",
    "    if(f==False):\n",
    "        list1[i]=list1[i]**3\n",
    "        list1[i]=list1[i]+list1[i-1]\n",
    "arr_2=np.array(list1).reshape(4,4)\n",
    "print(arr_2)\n",
    "\n",
    "#list1"
   ]
  },
  {
   "cell_type": "markdown",
   "id": "0aa5e51d",
   "metadata": {},
   "source": [
    "## 5.\tGiven two arrays, find their intersection.\n",
    "Examples:\n",
    "\n",
    "Input:arr1[] = [1,3,4,5,7],      \n",
    "      arr2[] = [2,3,5,6]\n"
   ]
  },
  {
   "cell_type": "code",
   "execution_count": null,
   "id": "385f5527",
   "metadata": {},
   "outputs": [],
   "source": [
    "import numpy as np\n",
    "arr1 = [1,3,4,5,7]\n",
    "arr2 = [2,3,5,6]\n",
    " \n",
    "r = len(arr1)\n",
    "c = len(arr2)\n",
    "i = 0\n",
    "j = 0\n",
    "lst=[]\n",
    "while(i < r and j < c):\n",
    "    if(arr1[i] < arr2[j]):\n",
    "        i += 1\n",
    "    elif(arr2[j] < arr1[i]):\n",
    "        j += 1\n",
    "    else:\n",
    "        lst.append(arr2[j])\n",
    "        i+=1\n",
    "        j+=1\n",
    "print(lst)"
   ]
  },
  {
   "cell_type": "code",
   "execution_count": null,
   "id": "a095162e",
   "metadata": {},
   "outputs": [],
   "source": [
    "#method2\n",
    "import numpy as np\n",
    "arr1=np.array([1,3,4,5,7])\n",
    "arr2=np.array([2,3,5,6])\n",
    "np.intersect1d(arr1,arr2)"
   ]
  },
  {
   "cell_type": "markdown",
   "id": "2b43249d",
   "metadata": {},
   "source": [
    "## 6.\tCreate a 7 x 7  2D array having only multiples of 7. And return the last element of the same."
   ]
  },
  {
   "cell_type": "code",
   "execution_count": null,
   "id": "7391cd2b",
   "metadata": {},
   "outputs": [],
   "source": [
    "import numpy as np\n",
    "arr1=np.zeros((7,7))\n",
    "x=1\n",
    "for i in range(7):\n",
    "    for j in range(7):\n",
    "        arr1[i][j]=7*x\n",
    "        x += 1\n",
    "print(arr1)\n",
    "print(\"\\nThe last element of the array is: \",arr1[-1,-1])"
   ]
  },
  {
   "cell_type": "markdown",
   "id": "c1e573f9",
   "metadata": {},
   "source": [
    "## 7.\tChecker Board Patten using Numpy:\n"
   ]
  },
  {
   "cell_type": "code",
   "execution_count": null,
   "id": "b1fc1a91",
   "metadata": {},
   "outputs": [],
   "source": [
    "'''\n",
    "[1 0 1 0 1 0 1\n",
    " 0 1 0 1 0 1 0\n",
    " 1 0 1 0 1 0 1\n",
    " 0 1 0 1 0 1 0\n",
    " 1 0 1 0 1 0 1]\n",
    "\n",
    "'''"
   ]
  },
  {
   "cell_type": "code",
   "execution_count": null,
   "id": "b308b5e7",
   "metadata": {},
   "outputs": [],
   "source": [
    "import numpy as np\n",
    "\n",
    "row=int(input(\"Enter the rows: \"))\n",
    "col=int(input(\"Enter the columns: \"))\n",
    "\n",
    "arr2=np.ones((row,col),dtype='int16')\n",
    "arr2[1::2,0::2]=0       \n",
    "arr2[0::2,1::2]=0\n",
    "print(arr2)"
   ]
  },
  {
   "cell_type": "markdown",
   "id": "55988b63",
   "metadata": {},
   "source": [
    "##  8.\tCreate a given Matrix:\n",
    "\n"
   ]
  },
  {
   "cell_type": "code",
   "execution_count": null,
   "id": "ef4cf2f6",
   "metadata": {},
   "outputs": [],
   "source": [
    "'''\n",
    "[A,B,C,D,\n",
    " E,F,G,H,\n",
    " I,a,K,L,\n",
    " M,N,o,P,\n",
    " Q,R,S,T,\n",
    " U,0,W,O]\n",
    "\n",
    "'''"
   ]
  },
  {
   "cell_type": "markdown",
   "id": "53e0566f",
   "metadata": {},
   "source": [
    "### Replace all the vowels by np.nan\n",
    "A, E, I, O U  -- >  np.nan\n",
    "Return the count of the missing values\n",
    "\n"
   ]
  },
  {
   "cell_type": "code",
   "execution_count": null,
   "id": "4ad4a95e",
   "metadata": {},
   "outputs": [],
   "source": [
    "import numpy as np\n",
    "\n",
    "arr2=['A','B','C','D',\n",
    "      'E','F','G','H',\n",
    "      'I','a','K','L',\n",
    "      'M','N','o','P',\n",
    "      'Q','R','S','T',\n",
    "      'U','0','W','O']\n",
    "#print(arr2)\n",
    "\n",
    "for i in range (len(arr2)):\n",
    "    if arr2[i].upper() =='A' or arr2[i].upper()=='E' or arr2[i].upper()=='I' or arr2[i].upper()=='O' or arr2[i].upper()=='U':\n",
    "        arr2[i]='nan'\n",
    "#print(arr2)\n",
    "\n",
    "c=0\n",
    "for i in range(len(arr2)):\n",
    "        if arr2[i]=='nan':\n",
    "            c += 1\n",
    "arr3=np.array(arr2)\n",
    "print(np.reshape(arr3,(6,4)))\n",
    "print(\"\\nCount is :\",c)\n"
   ]
  },
  {
   "cell_type": "code",
   "execution_count": null,
   "id": "bf3a83db",
   "metadata": {},
   "outputs": [],
   "source": []
  },
  {
   "cell_type": "code",
   "execution_count": null,
   "id": "289a958f",
   "metadata": {},
   "outputs": [],
   "source": []
  }
 ],
 "metadata": {
  "kernelspec": {
   "display_name": "Python 3 (ipykernel)",
   "language": "python",
   "name": "python3"
  },
  "language_info": {
   "codemirror_mode": {
    "name": "ipython",
    "version": 3
   },
   "file_extension": ".py",
   "mimetype": "text/x-python",
   "name": "python",
   "nbconvert_exporter": "python",
   "pygments_lexer": "ipython3",
   "version": "3.9.13"
  }
 },
 "nbformat": 4,
 "nbformat_minor": 5
}
